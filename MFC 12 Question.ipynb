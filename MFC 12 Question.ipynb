{
 "cells": [
  {
   "cell_type": "code",
   "execution_count": 3,
   "id": "c3018d62",
   "metadata": {},
   "outputs": [],
   "source": [
    "# 1)Find degree of each vertex & sort by degree\n",
    "def vertex_degrees(graph):\n",
    "    degree_dict = {node: len(neighbors) for node, neighbors in graph.items()}\n",
    "    sorted_degrees = dict(sorted(degree_dict.items(), key=lambda x: x[1], reverse=True))\n",
    "    return sorted_degrees\n"
   ]
  },
  {
   "cell_type": "code",
   "execution_count": 6,
   "id": "4e35583c",
   "metadata": {},
   "outputs": [],
   "source": [
    "# 2) Inter-convert graph representations\n",
    "# Adjacency List → Adjacency Matrix\n",
    "def adjlist_to_adjmatrix(adj_list):\n",
    "    nodes = sorted(adj_list.keys())\n",
    "    index = {node: i for i, node in enumerate(nodes)}\n",
    "    size = len(nodes)\n",
    "    matrix = [[0]*size for _ in range(size)]\n",
    "    for node, neighbors in adj_list.items():\n",
    "        for neighbor in neighbors:\n",
    "            matrix[index[node]][index[neighbor]] = 1\n",
    "    return matrix\n",
    "\n",
    "# Adjacency Matrix → Edge List\n",
    "def adjmatrix_to_edgelist(matrix):\n",
    "    edge_list = []\n",
    "    for i in range(len(matrix)):\n",
    "        for j in range(len(matrix[i])):\n",
    "            if matrix[i][j]:\n",
    "                edge_list.append((i, j))\n",
    "    return edge_list\n",
    "\n",
    "# Edge List → Adjacency List\n",
    "def edgelist_to_adjlist(edge_list):\n",
    "    adj_list = {}\n",
    "    for u, v in edge_list:\n",
    "        adj_list.setdefault(u, []).append(v)\n",
    "        adj_list.setdefault(v, []).append(u)\n",
    "    return adj_list\n"
   ]
  },
  {
   "cell_type": "code",
   "execution_count": 7,
   "id": "e8bb4312",
   "metadata": {},
   "outputs": [],
   "source": [
    "# 3) Check if two vertices are adjacent\n",
    "def are_adjacent(graph, u, v):\n",
    "    return v in graph.get(u, [])\n",
    "\n"
   ]
  },
  {
   "cell_type": "code",
   "execution_count": 8,
   "id": "40b7ea28",
   "metadata": {},
   "outputs": [],
   "source": [
    "# 4) Check if graph is complete\n",
    "def is_complete(graph):\n",
    "    n = len(graph)\n",
    "    for node, neighbors in graph.items():\n",
    "        if len(neighbors) != n - 1:\n",
    "            return False\n",
    "    return True\n"
   ]
  },
  {
   "cell_type": "code",
   "execution_count": 9,
   "id": "e8bf0a55",
   "metadata": {},
   "outputs": [],
   "source": [
    "# 5) Check if graph is connected\n",
    "def is_connected(graph):\n",
    "    visited = set()\n",
    "    def dfs(v):\n",
    "        visited.add(v)\n",
    "        for neighbor in graph[v]:\n",
    "            if neighbor not in visited:\n",
    "                dfs(neighbor)\n",
    "    start = next(iter(graph))\n",
    "    dfs(start)\n",
    "    return len(visited) == len(graph)\n"
   ]
  },
  {
   "cell_type": "code",
   "execution_count": 10,
   "id": "19949081",
   "metadata": {},
   "outputs": [],
   "source": [
    "# 6) Walk / Trail / Path checker\n",
    "def classify_sequence(graph, sequence):\n",
    "    if not sequence or len(sequence) < 2:\n",
    "        return \"None\"\n",
    "    \n",
    "    edges = []\n",
    "    visited_edges = set()\n",
    "    visited_vertices = set()\n",
    "    \n",
    "    for i in range(len(sequence) - 1):\n",
    "        u, v = sequence[i], sequence[i+1]\n",
    "        if v not in graph.get(u, []):\n",
    "            return \"None\"\n",
    "        edges.append((u, v))\n",
    "        visited_edges.add((u, v))\n",
    "        visited_edges.add((v, u))\n",
    "        visited_vertices.add(u)\n",
    "        visited_vertices.add(v)\n",
    "\n",
    "    if len(edges) == len(set(edges)):\n",
    "        if len(visited_vertices) == len(sequence):\n",
    "            return \"Path\"\n",
    "        else:\n",
    "            return \"Trail\"\n",
    "    return \"Walk\"\n"
   ]
  },
  {
   "cell_type": "code",
   "execution_count": 11,
   "id": "96ea3ffe",
   "metadata": {},
   "outputs": [],
   "source": [
    "# 7) Check if a graph is a tree\n",
    "def is_tree(graph):\n",
    "    def dfs(v, parent):\n",
    "        visited.add(v)\n",
    "        for neighbor in graph[v]:\n",
    "            if neighbor not in visited:\n",
    "                if not dfs(neighbor, v):\n",
    "                    return False\n",
    "            elif neighbor != parent:\n",
    "                return False\n",
    "        return True\n",
    "    \n",
    "    visited = set()\n",
    "    start = next(iter(graph))\n",
    "    if not dfs(start, None):\n",
    "        return False\n",
    "    return len(visited) == len(graph)\n"
   ]
  },
  {
   "cell_type": "code",
   "execution_count": 12,
   "id": "67035b8a",
   "metadata": {},
   "outputs": [],
   "source": [
    "# 8) Find spanning tree (using DFS)\n",
    "def spanning_tree(graph):\n",
    "    tree = {}\n",
    "    visited = set()\n",
    "    def dfs(v):\n",
    "        visited.add(v)\n",
    "        tree[v] = []\n",
    "        for neighbor in graph[v]:\n",
    "            if neighbor not in visited:\n",
    "                tree[v].append(neighbor)\n",
    "                dfs(neighbor)\n",
    "    start = next(iter(graph))\n",
    "    dfs(start)\n",
    "    return tree\n"
   ]
  },
  {
   "cell_type": "code",
   "execution_count": 13,
   "id": "b4e7accf",
   "metadata": {},
   "outputs": [],
   "source": [
    "# 9) Count leaf nodes in a tree\n",
    "def count_leaf_nodes(tree):\n",
    "    return sum(1 for node, children in tree.items() if len(children) == 0)\n"
   ]
  },
  {
   "cell_type": "code",
   "execution_count": 14,
   "id": "09d3d32c",
   "metadata": {},
   "outputs": [],
   "source": [
    "# 10) Check if tree is a binary tree\n",
    "def is_binary_tree(tree):\n",
    "    return all(len(children) <= 2 for children in tree.values())\n"
   ]
  },
  {
   "cell_type": "code",
   "execution_count": 2,
   "id": "ebe010c3",
   "metadata": {},
   "outputs": [],
   "source": [
    "# 11) def find_height(tree, node)\n",
    "def find_height(tree, node):\n",
    "    if not tree.get(node):\n",
    "        return 0\n",
    "    return 1 + max(find_height(tree, child) for child in tree[node])\n"
   ]
  },
  {
   "cell_type": "code",
   "execution_count": 1,
   "id": "a3802a3f",
   "metadata": {},
   "outputs": [],
   "source": [
    "# 12)  Find depth of a node in tree\n",
    "def find_depth(tree, root, target, depth=0):\n",
    "    if root == target:\n",
    "        return depth\n",
    "    for child in tree.get(root, []):\n",
    "        d = find_depth(tree, child, target, depth + 1)\n",
    "        if d != -1:\n",
    "            return d\n",
    "    return -1\n"
   ]
  }
 ],
 "metadata": {
  "kernelspec": {
   "display_name": "Python 3",
   "language": "python",
   "name": "python3"
  },
  "language_info": {
   "codemirror_mode": {
    "name": "ipython",
    "version": 3
   },
   "file_extension": ".py",
   "mimetype": "text/x-python",
   "name": "python",
   "nbconvert_exporter": "python",
   "pygments_lexer": "ipython3",
   "version": "3.12.5"
  }
 },
 "nbformat": 4,
 "nbformat_minor": 5
}
